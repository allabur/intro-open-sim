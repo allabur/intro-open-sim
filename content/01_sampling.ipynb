{
 "cells": [
  {
   "cell_type": "markdown",
   "id": "10df8325-b87f-4633-97ba-fdc1f70c77a9",
   "metadata": {},
   "source": [
    "# Sampling from statistical distributions in Python\n",
    "\n",
    "If you are working in simulation modelling in Python, you will likely need to use `numpy.random` namespace. It provides a variety of statistical distributions which you can use for efficient sampling. \n",
    "\n",
    "This notebook will guide you through examples of \n",
    "\n",
    "1.  Creating instances of a high quality Pseudo Random Number Generator (PRNG) using PCG64 provided by `numpy`\n",
    "2.  Generating samples from the **uniform**, **exponential** and **normal** distributions.\n",
    "3.  Spawning multiple non-overlapping streams of random numbers\n",
    "4.  Using OOP to encapsulate PRNGs, distributions and parameters for simulation models."
   ]
  },
  {
   "cell_type": "markdown",
   "id": "3352e4cf-0342-45e5-a645-132cdf5193e7",
   "metadata": {},
   "source": [
    "## 1. Imports\n",
    "\n",
    "We will import `numpy` for our sampling and `matplotlib` to plot our distributions."
   ]
  },
  {
   "cell_type": "code",
   "execution_count": null,
   "id": "1f15c689-7821-46e7-8fe8-30623b381fd3",
   "metadata": {},
   "outputs": [],
   "source": [
    "import numpy as np\n",
    "import matplotlib.pyplot as plt"
   ]
  },
  {
   "cell_type": "markdown",
   "id": "4f9b6c3a-b126-4e3b-b102-573a1685a782",
   "metadata": {},
   "source": [
    "## 2. Helper functions\n",
    "\n",
    "The simple function below can be used to automatically produce a plot illustrating a distribution of samples.   "
   ]
  },
  {
   "cell_type": "code",
   "execution_count": null,
   "id": "be8a6201-34f8-4529-9437-8b09017221dd",
   "metadata": {},
   "outputs": [],
   "source": [
    "def distribution_plot(samples, bins=100, figsize=(5,3)):\n",
    "    '''\n",
    "    Helper function to visualise the distributions\n",
    "    \n",
    "    Params:\n",
    "    -----\n",
    "    samples: np.ndarray\n",
    "        A numpy array of quantitative data to plot as a histogram.\n",
    "        \n",
    "    bins: int, optional (default=100)\n",
    "        The number of bins to include in the histogram\n",
    "        \n",
    "    figsize: (int, int) (default=(5,3))\n",
    "        Size of the plot in pixels\n",
    "        \n",
    "    Returns:\n",
    "    -------\n",
    "        fig, ax: a tuple containing matplotlib figure and axis objects.\n",
    "    '''\n",
    "    hist = np.histogram(samples, bins=np.arange(bins), \n",
    "                        density=True)\n",
    "\n",
    "    fig = plt.figure(figsize=figsize)\n",
    "    ax = fig.add_subplot()\n",
    "    _ = ax.plot(hist[0])\n",
    "    _ = ax.set_ylabel('p(x)')\n",
    "    _ = ax.set_xlabel('x')\n",
    "    \n",
    "    return fig, ax"
   ]
  },
  {
   "cell_type": "markdown",
   "id": "6796cec8-5481-4003-bddc-430811fa95ab",
   "metadata": {},
   "source": [
    "## 3. Creating a random number generator object\n",
    "\n",
    "To generate pseudo random numbers for sampling from each distribution, we can use the `default_rng()` function from the `numpy.random` module.\n",
    "\n",
    "This function constructs an instance of a `Generator` class, which can produce random numbers. \n",
    "\n",
    "By default `numpy` uses a Pseudo-Random Number Generator (PRNG) called use of the [Permuted Congruential Generator 64-bit](https://www.pcg-random.org/) (PCG64; period = $2^{128}$; maximum number of streams = $2^{63}$).\n",
    "\n",
    "For more information on `Generator` you can look at [`numpy` online documentation.](https://numpy.org/doc/stable/reference/random/generator.html)"
   ]
  },
  {
   "cell_type": "code",
   "execution_count": null,
   "id": "5ab50c5d-cac8-4ec0-88da-b4e71f64742a",
   "metadata": {},
   "outputs": [],
   "source": [
    "rng = np.random.default_rng()"
   ]
  },
  {
   "cell_type": "code",
   "execution_count": null,
   "id": "8e046c79-8b9b-44b7-bd3f-8cc38df4ed84",
   "metadata": {},
   "outputs": [],
   "source": [
    "type(rng)"
   ]
  },
  {
   "cell_type": "markdown",
   "id": "14809bb3-e67c-452c-a9f4-26f4c55b900f",
   "metadata": {},
   "source": [
    "## 4. Steps to create a sample\n",
    "\n",
    "In general, the approach to sampling is:\n",
    "\n",
    "1. Create a random number **generator** object\n",
    "\n",
    "2. Using the object call the method for the **statistical distribution**\n",
    "    * Each method has its own custom parameters\n",
    "    * Each method will include a `size` parameter that you use to set the number of samples to generate\n",
    "\n",
    "3. **Store** the result in an appropriately named variable\n",
    "\n",
    "### 4.1 Uniform distribution\n"
   ]
  },
  {
   "cell_type": "code",
   "execution_count": null,
   "id": "28bafa4f-da57-4cd7-a2ce-c3e11b66e907",
   "metadata": {},
   "outputs": [],
   "source": [
    "# Step 1: create a random number generator object - set seed to 42\n",
    "rng = np.random.default_rng(42)\n",
    "\n",
    "# Step 2 and 3: call the appropriate method of the generator and store result\n",
    "samples = rng.uniform(low=10, high=40, size=1_000_000)\n",
    "\n",
    "# Illustrate with plot.\n",
    "_ = distribution_plot(samples, bins=50)"
   ]
  },
  {
   "cell_type": "markdown",
   "id": "f4e9c040-9843-4236-ae27-40834aaf7665",
   "metadata": {},
   "source": [
    "### 4.2 Exponential distribution"
   ]
  },
  {
   "cell_type": "code",
   "execution_count": null,
   "id": "69760faf-4773-48d4-9b56-49585782cb61",
   "metadata": {},
   "outputs": [],
   "source": [
    "rng = np.random.default_rng(42)\n",
    "samples = rng.exponential(scale=12, size=1_000_000)\n",
    "_ = distribution_plot(samples, bins=50)"
   ]
  },
  {
   "cell_type": "markdown",
   "id": "c298bbcd-b19e-458c-9cb3-0ccb85858fd9",
   "metadata": {},
   "source": [
    "## 4.3 Normal distribution"
   ]
  },
  {
   "cell_type": "code",
   "execution_count": null,
   "id": "6b81d05e-b181-4ed1-8b2d-54c0dd04048e",
   "metadata": {},
   "outputs": [],
   "source": [
    "rng = np.random.default_rng(42)\n",
    "samples = rng.normal(loc=25.0, scale=5.0, size=1_000_000)\n",
    "_ = distribution_plot(samples, bins=50)"
   ]
  },
  {
   "cell_type": "markdown",
   "id": "8484ec86-7ea8-4959-8c3a-ee8665bbbbd6",
   "metadata": {},
   "source": [
    "## 4.4 Generating a single sample\n",
    "\n",
    "If we just need to generate the a single sample we omit the `size` parameter. This returns a scalar value."
   ]
  },
  {
   "cell_type": "code",
   "execution_count": null,
   "id": "7269e0fd-140e-49a3-ac6f-6eb416ad49e0",
   "metadata": {},
   "outputs": [],
   "source": [
    "rng = np.random.default_rng(42)\n",
    "sample = rng.normal(loc=25.0, scale=5.0)\n",
    "print(sample)\n",
    "print(type(sample))"
   ]
  },
  {
   "cell_type": "markdown",
   "id": "6ed34200-c5ac-4a70-ae83-90adf48aee67",
   "metadata": {},
   "source": [
    "**Note** that you can also set `size` to 1.  Just be aware that an array is returned. e.g."
   ]
  },
  {
   "cell_type": "code",
   "execution_count": null,
   "id": "cad9fc7b-e63c-472c-a5d7-863d97b00fa8",
   "metadata": {},
   "outputs": [],
   "source": [
    "rng = np.random.default_rng(42)\n",
    "sample = rng.normal(loc=25.0, scale=5.0, size=1)\n",
    "# a numpy array is returned\n",
    "print(sample)\n",
    "print(type(sample))\n",
    "\n",
    "# to access the scalar value use the 0 index of the array.\n",
    "print(sample[0])"
   ]
  },
  {
   "cell_type": "markdown",
   "id": "b4bbf593-fa4a-4347-acb8-2f3df370d6ef",
   "metadata": {},
   "source": [
    "## 5. Spawning multiple non-overlapping PRN streams.\n",
    "\n",
    "For simulation we ideally want to use multiple streams of random numbers that do not overlap (i.e. they are independent). This is straightforward to implement in Python using `SeedSequence` and a user provided integer seed and the number of independent streams to spawn.\n",
    "\n",
    "> As a user we don't need to worry about the quality of the integer seed provided. This is useful for implementing multiple replications and common random numbers."
   ]
  },
  {
   "cell_type": "markdown",
   "id": "82a41ef0-7198-403d-9fc9-a73eb293655a",
   "metadata": {},
   "source": [
    "Here's how we create the seeds from a single user supplied seed.  The returned variable `seeds` is a Python `List`."
   ]
  },
  {
   "cell_type": "code",
   "execution_count": null,
   "id": "4c404fa0-0987-4bff-9a1d-e784c485e59f",
   "metadata": {},
   "outputs": [],
   "source": [
    "n_streams = 2\n",
    "user_seed = 1\n",
    "\n",
    "seed_sequence = np.random.SeedSequence(user_seed)\n",
    "seeds = seed_sequence.spawn(n_streams)"
   ]
  },
  {
   "cell_type": "markdown",
   "id": "002292d7-7bd8-4fec-9eb0-b9a2f6459b4f",
   "metadata": {},
   "source": [
    "We use `seeds` when creating our PRNGs.  For example, one for inter-arrival times and one for service times."
   ]
  },
  {
   "cell_type": "code",
   "execution_count": null,
   "id": "268d5a1b-0372-4d4e-b38d-75b3b9b8990e",
   "metadata": {},
   "outputs": [],
   "source": [
    "# e.g. to model arrival times\n",
    "arrival_rng = np.random.default_rng(seeds[0])\n",
    "\n",
    "# e.g. to model service times\n",
    "service_rng = np.random.default_rng(seeds[1])"
   ]
  },
  {
   "cell_type": "markdown",
   "id": "0dc23b86-1ae1-4da0-b393-97dcf884f442",
   "metadata": {},
   "source": [
    "## 6. Encapsulating distributions, parameters, and random seeds.\n",
    "\n",
    "When building a simulation model it is often useful to *package up* both a random number generator, parameters for a specific distribution, and a seed in a **python class**.  This allows **easy creation** of generator objects, straightforward sampling, and improves management of streams for each activity in a simulation model.\n",
    "\n",
    "As an example below, the class `Exponential` represents the exponential distribution. It accepts a mean value parameter and you can set the random seed.\n",
    "\n",
    "We will then instantiate two `Exponential` objects for two different processes in our simulation: acute length of stay, and rehab length of stay."
   ]
  },
  {
   "cell_type": "code",
   "execution_count": null,
   "id": "90c287a0-8aa1-4eb4-8beb-b7fdead97ca2",
   "metadata": {},
   "outputs": [],
   "source": [
    "class Exponential:\n",
    "    '''\n",
    "    Convenience class for the exponential distribution.\n",
    "    Packages up distribution parameters, seed and random generator.\n",
    "    '''\n",
    "    def __init__(self, mean, random_seed=None):\n",
    "        '''\n",
    "        Constructor\n",
    "\n",
    "        Params:\n",
    "        ------\n",
    "        mean: float\n",
    "            The mean of the exponential distribution\n",
    "\n",
    "        random_seed: int | SeedSequence, optional (default=None)\n",
    "            A random seed to reproduce samples.  If set to none then a unique\n",
    "            sample is created.\n",
    "        '''\n",
    "        self.rand = np.random.default_rng(seed=random_seed)\n",
    "        self.mean = mean\n",
    "\n",
    "    def sample(self, size=None):\n",
    "        '''\n",
    "        Generate a sample from the exponential distribution\n",
    "\n",
    "        Params:\n",
    "        -------\n",
    "        size: int, optional (default=None)\n",
    "            the number of samples to return.  If size=None then a single\n",
    "            sample is returned.\n",
    "        '''\n",
    "        return self.rand.exponential(self.mean, size=size)"
   ]
  },
  {
   "cell_type": "code",
   "execution_count": null,
   "id": "f51cc325-f40b-4d7c-9007-02f574c16a00",
   "metadata": {},
   "outputs": [],
   "source": [
    "acute_los = Exponential(3.0, random_seed=42)\n",
    "rehab_los = Exponential(30.0, random_seed=101)"
   ]
  },
  {
   "cell_type": "code",
   "execution_count": null,
   "id": "d6e73503-f402-4cb7-8450-347cbad79bb9",
   "metadata": {},
   "outputs": [],
   "source": [
    "acute_los.sample()"
   ]
  },
  {
   "cell_type": "code",
   "execution_count": null,
   "id": "43976ab6-38c2-4f3d-ab64-1f64dea6bbcb",
   "metadata": {},
   "outputs": [],
   "source": [
    "rehab_los.sample()"
   ]
  },
  {
   "cell_type": "markdown",
   "id": "45f7c0f2-0667-48ca-b93e-c80f15f44baf",
   "metadata": {},
   "source": [
    "## 7. Next steps"
   ]
  },
  {
   "cell_type": "markdown",
   "id": "8b269763-110f-404c-806b-adf91025b7c0",
   "metadata": {},
   "source": [
    "We can now move onto creating simple `simpy` models that make use of `numpy` sampling."
   ]
  }
 ],
 "metadata": {
  "kernelspec": {
   "display_name": "Python 3 (ipykernel)",
   "language": "python",
   "name": "python3"
  },
  "language_info": {
   "codemirror_mode": {
    "name": "ipython",
    "version": 3
   },
   "file_extension": ".py",
   "mimetype": "text/x-python",
   "name": "python",
   "nbconvert_exporter": "python",
   "pygments_lexer": "ipython3",
   "version": "3.11.9"
  }
 },
 "nbformat": 4,
 "nbformat_minor": 5
}
