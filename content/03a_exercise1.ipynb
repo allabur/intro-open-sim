{
 "cells": [
  {
   "cell_type": "markdown",
   "id": "f2147e34-ce39-4d8c-a7db-e8acec2b63e0",
   "metadata": {},
   "source": [
    "# Generator exercise\n",
    "\n",
    "🧐 For the solutions, please see the [generator exercise solutions notebook](./03b_exercise1_solutions.ipynb)"
   ]
  },
  {
   "cell_type": "markdown",
   "id": "c034caf3-6766-4c69-af8f-949f45283b37",
   "metadata": {},
   "source": [
    "## 1. Imports"
   ]
  },
  {
   "cell_type": "code",
   "execution_count": null,
   "id": "85fd4a85-bb77-498c-96ee-c14de89994a2",
   "metadata": {},
   "outputs": [],
   "source": [
    "import simpy\n",
    "import numpy as np"
   ]
  },
  {
   "cell_type": "markdown",
   "id": "bfab7f97-9cad-419a-8d75-a2ba190edee8",
   "metadata": {},
   "source": [
    "## Example code\n",
    "\n",
    "The code below is taken from the simple call centre example.  In this code arrivals occur with an inter-arrival time (IAT) of exactly 1 minute."
   ]
  },
  {
   "cell_type": "code",
   "execution_count": null,
   "id": "ee2439f2-0d35-41fd-a5e2-4b95954dd5c5",
   "metadata": {},
   "outputs": [],
   "source": [
    "def arrivals_generator(env):\n",
    "    '''\n",
    "    Prescriptions arrive with a fixed duration of 1 minute.\n",
    "\n",
    "    Parameters:\n",
    "    ------\n",
    "    env: simpy.Environment\n",
    "    '''\n",
    "    \n",
    "    # don't worry about the infinite while loop, simpy will\n",
    "    # exit at the correct time.\n",
    "    while True:\n",
    "        \n",
    "        # sample an inter-arrival time.\n",
    "        inter_arrival_time = 1.0\n",
    "        \n",
    "        # we use the yield keyword instead of return\n",
    "        yield env.timeout(inter_arrival_time)\n",
    "        \n",
    "        # print out the time of the arrival\n",
    "        print(f'Call arrives at: {env.now}')"
   ]
  },
  {
   "cell_type": "code",
   "execution_count": null,
   "id": "40c495d5-6f55-4c93-99e3-5bfa6cdff36d",
   "metadata": {},
   "outputs": [],
   "source": [
    "# model parameters\n",
    "RUN_LENGTH = 25\n",
    "\n",
    "# create the simpy environment object\n",
    "env = simpy.Environment()\n",
    "\n",
    "# tell simpy that the `arrivals_generator` is a process\n",
    "env.process(arrivals_generator(env))\n",
    "\n",
    "# run the simulation model\n",
    "env.run(until=RUN_LENGTH)\n",
    "print(f'end of run. simulation clock time = {env.now}')"
   ]
  },
  {
   "cell_type": "markdown",
   "id": "6b1bd501-1614-4891-a876-d07bd40c0496",
   "metadata": {},
   "source": [
    "## 3. Exercise: Modelling a poisson arrival process for prescriptions\n",
    "\n",
    "**Task:**\n",
    "\n",
    "Update `arrivals_generator()` so that inter-arrival times follow an **exponential distribution** with a mean inter-arrival time of 60.0 / 100 minutes between arrivals (i.e. 100 arrivals per hour). Use a run length of 25 minutes.\n",
    "\n",
    "**Bonus challenge:**\n",
    "\n",
    "* First, try implementing this **without** setting a random seed.\n",
    "* Then, update the method with an approach to control the randomness,\n",
    "\n",
    "**Hints:**\n",
    "\n",
    "* We learnt how to sample using a `numpy` random number generator in the [sampling notebook](./01_sampling.ipynb). Excluding a random seed, the basic method for drawing a single sample follows this pattern:\n",
    "    ```python\n",
    "    rng = np.random.default_rng()\n",
    "    sample = rng.exponential(scale=12.0)\n",
    "    ```"
   ]
  },
  {
   "cell_type": "code",
   "execution_count": null,
   "id": "49dcec06-cf80-47d0-befd-66bc842f2e6e",
   "metadata": {},
   "outputs": [],
   "source": [
    "# your code here..."
   ]
  }
 ],
 "metadata": {
  "kernelspec": {
   "display_name": "Python 3 (ipykernel)",
   "language": "python",
   "name": "python3"
  },
  "language_info": {
   "codemirror_mode": {
    "name": "ipython",
    "version": 3
   },
   "file_extension": ".py",
   "mimetype": "text/x-python",
   "name": "python",
   "nbconvert_exporter": "python",
   "pygments_lexer": "ipython3",
   "version": "3.11.9"
  }
 },
 "nbformat": 4,
 "nbformat_minor": 5
}
