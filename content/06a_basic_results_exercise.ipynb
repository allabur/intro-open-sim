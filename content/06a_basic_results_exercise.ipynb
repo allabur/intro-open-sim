{
 "cells": [
  {
   "cell_type": "markdown",
   "id": "c3d8c177-68a5-4bda-9879-57fb9a12eefe",
   "metadata": {},
   "source": [
    "# Results collection exercise\n",
    "\n",
    "### Exercise: calculating the utilisation of the call operators.\n",
    "\n",
    "The 111 caller model is replicated below.  At the moment this only collects results for the mean waiting time experienced by callers. Your task is to update the code so that the average utilsation of the call operators is calculated.\n",
    "\n",
    "**Task:**\n",
    "\n",
    "1. Create a new entry to the results dictionary with the key `total_call_duration`\n",
    "    * You will use `results['total_call_duration']` to store the total time operators are in use during the model run.\n",
    "2. Modify the `service` function to update `total_call_duration` after each call completes.  \n",
    "3. After the run has completed calculate the average operator utilisation.\n",
    "4. Print the results to the screen.\n",
    "\n",
    "\n",
    "**Hints:**\n",
    "\n",
    "* The `service ` function could update the total_call_duration as follows (where `call_duration` is the length of time a caller has just spent with an operator).\n",
    "\n",
    "```python\n",
    "results['total_call_duration'] += call_duration\n",
    "```\n",
    "\n",
    "* Average operator utilisation is calculated by:\n",
    "\n",
    "```python\n",
    "mean_util = results['total_call_duration'] / (RUN_LENGTH * N_OPERATORS) * 100.0\n",
    "```\n",
    "\n",
    "> note we don't quite capture all operator utilisation using this method.  When the simulation terminates there will be a number of callers in service.  This can be fixed using some additional logic, and its up to you to decide if this is an issue with results reporting.  For this exercise we will ignore it.\n",
    "\n",
    "\n",
    "To see the solutions please see the [Results collection exercise solutions notebook](../05_solutions/03_basic_results.ipynb)\n"
   ]
  },
  {
   "cell_type": "markdown",
   "id": "88f8f4d3-6929-4b12-869c-0c4518c8a4f5",
   "metadata": {},
   "source": [
    "## 1. Imports"
   ]
  },
  {
   "cell_type": "code",
   "execution_count": null,
   "id": "98ae291f-9430-43ee-8214-68d2deaadc5e",
   "metadata": {},
   "outputs": [],
   "source": [
    "import simpy\n",
    "import numpy as np\n",
    "import itertools"
   ]
  },
  {
   "cell_type": "markdown",
   "id": "ef577b1b-fb31-4636-a314-505821e1a600",
   "metadata": {},
   "source": [
    "## 2. Model and Logic"
   ]
  },
  {
   "cell_type": "markdown",
   "id": "77a6624a-3349-4fb4-8e4d-b65fa8984337",
   "metadata": {},
   "source": [
    "### 2.1 Notebook level variables for results collection.\n",
    "\n",
    "The list has notebook level scope. This means that any functions or class in the notebook can access and/or append to the list."
   ]
  },
  {
   "cell_type": "code",
   "execution_count": null,
   "id": "47b4dfd8-5860-4f79-8be5-dc39f387be3b",
   "metadata": {},
   "outputs": [],
   "source": [
    "results = {}\n",
    "results['waiting_times'] = []\n",
    "\n",
    "# ##############################################################################\n",
    "# MODIFICATION: added in 2nd results variable\n",
    "# your code here ...\n",
    "\n",
    "################################################################################"
   ]
  },
  {
   "cell_type": "markdown",
   "id": "19b3400d-bf47-4998-a981-eab294e74bc0",
   "metadata": {},
   "source": [
    "### 2.2 A helper function\n",
    "\n",
    "We will create a helper function called trace that wraps `print`.  We can set a variable called `TRACE` that switches printing patient level results on and off."
   ]
  },
  {
   "cell_type": "code",
   "execution_count": null,
   "id": "4eed6a29-63bb-4e1f-a0c5-ae3733498255",
   "metadata": {},
   "outputs": [],
   "source": [
    "def trace(msg):\n",
    "    '''\n",
    "    Turing printing of events on and off.\n",
    "    \n",
    "    Params:\n",
    "    -------\n",
    "    msg: str\n",
    "        string to print to screen.\n",
    "    '''\n",
    "    if TRACE:\n",
    "        print(msg)"
   ]
  },
  {
   "cell_type": "markdown",
   "id": "ebeb9512-f28f-41bb-a8d2-50164bfc31f7",
   "metadata": {},
   "source": [
    "## 2.3 Service and arrival functions\n",
    "\n",
    "You need to modify the `service` function.  Add a line of code to update `total_call_duration` following a completed call."
   ]
  },
  {
   "cell_type": "code",
   "execution_count": null,
   "id": "a6bd172d-a609-497e-9656-6533539a7490",
   "metadata": {},
   "outputs": [],
   "source": [
    "def service(identifier, operators, env):\n",
    "    '''\n",
    "    simulates the service process for a call operator\n",
    "\n",
    "    1. request and wait for a call operator\n",
    "    2. phone triage (triangular)\n",
    "    3. exit system\n",
    "    \n",
    "    Params:\n",
    "    ------\n",
    "    \n",
    "    identifier: int \n",
    "        A unique identifer for this caller\n",
    "        \n",
    "    operators: simpy.Resource\n",
    "        The pool of call operators that answer calls\n",
    "        These are shared across resources.\n",
    "        \n",
    "    env: simpy.Environment\n",
    "        The current environent the simulation is running in\n",
    "        We use this to pause and restart the process after a delay.\n",
    "    \n",
    "    '''\n",
    "    # record the time that call entered the queue\n",
    "    start_wait = env.now\n",
    "\n",
    "    # request an operator\n",
    "    with operators.request() as req:\n",
    "        yield req\n",
    "\n",
    "        # record the waiting time for call to be answered\n",
    "        waiting_time = env.now - start_wait\n",
    "        \n",
    "        # store the waiting time.\n",
    "        results['waiting_times'].append(waiting_time)\n",
    "\n",
    "        trace(f'operator answered call {identifier} at ' \\\n",
    "              + f'{env.now:.3f}')\n",
    "\n",
    "        # sample call duration.\n",
    "        call_duration = np.random.triangular(left=5.0, mode=7.0,\n",
    "                                             right=10.0)\n",
    "        \n",
    "        # schedule process to begin again after call_duration\n",
    "        yield env.timeout(call_duration)\n",
    "        \n",
    "        # ######################################################################\n",
    "        # MODIFICATION: update total call duration in results\n",
    "        # your code here ...\n",
    "        \n",
    "        ########################################################################\n",
    "\n",
    "        # print out information for patient.\n",
    "        trace(f'call {identifier} ended {env.now:.3f}; ' \\\n",
    "              + f'waiting time was {waiting_time:.3f}')"
   ]
  },
  {
   "cell_type": "code",
   "execution_count": null,
   "id": "1b640813-7b18-4aa3-8cce-c5098f3a2349",
   "metadata": {},
   "outputs": [],
   "source": [
    "def arrivals_generator(env, operators):\n",
    "    '''\n",
    "    IAT is exponentially distributed\n",
    "\n",
    "    Parameters:\n",
    "    ------\n",
    "    env: simpy.Environment\n",
    "        The simpy environment for the simulation\n",
    "\n",
    "    operators: simpy.Resource\n",
    "        the pool of call operators.\n",
    "    '''\n",
    "\n",
    "    # use itertools as it provides an infinite loop \n",
    "    # with a counter variable that we can use for unique Ids\n",
    "    for caller_count in itertools.count(start=1):\n",
    "\n",
    "        # 100 calls per hour (units = hours). \n",
    "        # Time between calls is 1/100\n",
    "        inter_arrival_time = np.random.exponential(60/100)\n",
    "        yield env.timeout(inter_arrival_time)\n",
    "\n",
    "        trace(f'call arrives at: {env.now:.3f}')\n",
    "\n",
    "        # create a new simpy process for this caller.\n",
    "        # we pass in the caller id, the operator resources, and env.\n",
    "        env.process(service(caller_count, operators, env))"
   ]
  },
  {
   "cell_type": "markdown",
   "id": "a0a971c3-a141-40d6-a4f8-ebc944666ee2",
   "metadata": {},
   "source": [
    "## 2.4 Conduct a single run of the model\n",
    "\n",
    "Here we modify the single run function to \n",
    "\n",
    "* Store and return results of the run in a dictionary called `run_results`. We will number the metrics to help with sorting.\n",
    "* Add new logic to calculate the call operator utilisation during the run.\n"
   ]
  },
  {
   "cell_type": "code",
   "execution_count": null,
   "id": "d35090ac-2ea5-4043-b69d-4ec2d3119d1d",
   "metadata": {},
   "outputs": [],
   "source": [
    "def single_run(run_length, n_operators):\n",
    "    '''\n",
    "    Perform a single replication of the simulation model and \n",
    "    return the mean waiting time as a result.\n",
    "\n",
    "    Parameters:\n",
    "    ----------\n",
    "    run_length: float\n",
    "        The duration of the simulation run in minutes.\n",
    "\n",
    "    n_operators: int\n",
    "        The number of call operators to create as a resource\n",
    "    '''\n",
    "\n",
    "    # ##########################################################################\n",
    "    # MODIFICATION - results dictionary. Each KPI is a new entry.\n",
    "    \n",
    "    ############################################################################\n",
    "    \n",
    "    # environment is (re)created inside single run\n",
    "    env = simpy.Environment()\n",
    "\n",
    "    # we create simpy resource here\n",
    "    operators = simpy.Resource(env, capacity=n_operators)\n",
    "    \n",
    "    # we pass the experiment to the arrivals generator\n",
    "    env.process(arrivals_generator(env, operators))\n",
    "    env.run(until=run_length)\n",
    "\n",
    "    # ##########################################################################\n",
    "    # MODIFICATION store mean run results in dictionary\n",
    "    mean_waiting_time = np.mean(results['waiting_times'])\n",
    "    \n",
    "    # end of run results: calculate operator utilisation\n",
    "    \n",
    "    # ##########################################################################\n",
    "\n",
    "    # return the results from the run of the model\n",
    "    return mean_waiting_time"
   ]
  },
  {
   "cell_type": "markdown",
   "id": "011cc2b3-b4bf-4328-abff-6a6f41033592",
   "metadata": {},
   "source": [
    "## 2.5 Run script"
   ]
  },
  {
   "cell_type": "code",
   "execution_count": null,
   "id": "4c13d343-6359-4fd4-8b13-0689ec904d2f",
   "metadata": {},
   "outputs": [],
   "source": [
    "# reset results collection variables so that we can re-run cell \n",
    "results = {}\n",
    "results['waiting_times'] = []\n",
    "results['total_call_duration'] = 0.0\n",
    "\n",
    "# model parameters\n",
    "RUN_LENGTH = 1000\n",
    "N_OPERATORS = 13\n",
    "\n",
    "# toggle on/off caller level results.\n",
    "TRACE = False\n",
    "\n",
    "# single run now returns a dictionary\n",
    "run_results = single_run(RUN_LENGTH, N_OPERATORS)\n",
    "\n",
    "# ##############################################################################\n",
    "# MODIFICATION: print out results\n",
    "print(\"Results: \")\n",
    "for metric, value in run_results.items():\n",
    "    print(f'{metric}, {value:.2f}')\n",
    "# ##############################################################################"
   ]
  }
 ],
 "metadata": {
  "kernelspec": {
   "display_name": "Python 3 (ipykernel)",
   "language": "python",
   "name": "python3"
  },
  "language_info": {
   "codemirror_mode": {
    "name": "ipython",
    "version": 3
   },
   "file_extension": ".py",
   "mimetype": "text/x-python",
   "name": "python",
   "nbconvert_exporter": "python",
   "pygments_lexer": "ipython3",
   "version": "3.11.11"
  }
 },
 "nbformat": 4,
 "nbformat_minor": 5
}
