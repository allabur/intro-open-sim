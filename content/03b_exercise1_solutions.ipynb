{
 "cells": [
  {
   "cell_type": "markdown",
   "id": "f2147e34-ce39-4d8c-a7db-e8acec2b63e0",
   "metadata": {},
   "source": [
    "# Solutions for the generator exercise\n",
    "\n",
    "⚠️ **SOLUTIONS:** This notebook contains example solutions for the [generator exercise](./03a_exercise1.ipynb)"
   ]
  },
  {
   "cell_type": "markdown",
   "id": "c034caf3-6766-4c69-af8f-949f45283b37",
   "metadata": {},
   "source": [
    "## 1. Imports"
   ]
  },
  {
   "cell_type": "code",
   "execution_count": 1,
   "id": "85fd4a85-bb77-498c-96ee-c14de89994a2",
   "metadata": {},
   "outputs": [],
   "source": [
    "import simpy\n",
    "import numpy as np"
   ]
  },
  {
   "cell_type": "markdown",
   "id": "bfab7f97-9cad-419a-8d75-a2ba190edee8",
   "metadata": {},
   "source": [
    "## Example code\n",
    "\n",
    "The code below is taken from the simple call centre example.  In this code arrivals occur with an inter-arrival time (IAT) of exactly 1 minute."
   ]
  },
  {
   "cell_type": "code",
   "execution_count": 2,
   "id": "ee2439f2-0d35-41fd-a5e2-4b95954dd5c5",
   "metadata": {},
   "outputs": [],
   "source": [
    "def arrivals_generator(env):\n",
    "    '''\n",
    "    Prescriptions arrive with a fixed duration of 1 minute.\n",
    "\n",
    "    Parameters:\n",
    "    ------\n",
    "    env: simpy.Environment\n",
    "    '''\n",
    "    \n",
    "    # don't worry about the infinite while loop, simpy will\n",
    "    # exit at the correct time.\n",
    "    while True:\n",
    "        \n",
    "        # sample an inter-arrival time.\n",
    "        inter_arrival_time = 1.0\n",
    "        \n",
    "        # we use the yield keyword instead of return\n",
    "        yield env.timeout(inter_arrival_time)\n",
    "        \n",
    "        # print out the time of the arrival\n",
    "        print(f'Call arrives at: {env.now}')"
   ]
  },
  {
   "cell_type": "code",
   "execution_count": 3,
   "id": "40c495d5-6f55-4c93-99e3-5bfa6cdff36d",
   "metadata": {},
   "outputs": [
    {
     "name": "stdout",
     "output_type": "stream",
     "text": [
      "Call arrives at: 1.0\n",
      "Call arrives at: 2.0\n",
      "Call arrives at: 3.0\n",
      "Call arrives at: 4.0\n",
      "Call arrives at: 5.0\n",
      "Call arrives at: 6.0\n",
      "Call arrives at: 7.0\n",
      "Call arrives at: 8.0\n",
      "Call arrives at: 9.0\n",
      "Call arrives at: 10.0\n",
      "Call arrives at: 11.0\n",
      "Call arrives at: 12.0\n",
      "Call arrives at: 13.0\n",
      "Call arrives at: 14.0\n",
      "Call arrives at: 15.0\n",
      "Call arrives at: 16.0\n",
      "Call arrives at: 17.0\n",
      "Call arrives at: 18.0\n",
      "Call arrives at: 19.0\n",
      "Call arrives at: 20.0\n",
      "Call arrives at: 21.0\n",
      "Call arrives at: 22.0\n",
      "Call arrives at: 23.0\n",
      "Call arrives at: 24.0\n",
      "end of run. simulation clock time = 25\n"
     ]
    }
   ],
   "source": [
    "# model parameters\n",
    "RUN_LENGTH = 25\n",
    "\n",
    "# create the simpy environment object\n",
    "env = simpy.Environment()\n",
    "\n",
    "# tell simpy that the `arrivals_generator` is a process\n",
    "env.process(arrivals_generator(env))\n",
    "\n",
    "# run the simulation model\n",
    "env.run(until=RUN_LENGTH)\n",
    "print(f'end of run. simulation clock time = {env.now}')"
   ]
  },
  {
   "cell_type": "markdown",
   "id": "6b1bd501-1614-4891-a876-d07bd40c0496",
   "metadata": {},
   "source": [
    "## 3. Exercise: Modelling a poisson arrival process for prescriptions\n",
    "\n",
    "**Task:**\n",
    "\n",
    "Update `arrivals_generator()` so that inter-arrival times follow an **exponential distribution** with a mean inter-arrival time of 60.0 / 100 minutes between arrivals (i.e. 100 arrivals per hour). Use a run length of 25 minutes.\n",
    "\n",
    "**Bonus challenge:**\n",
    "\n",
    "* First, try implementing this **without** setting a random seed.\n",
    "* Then, update the method with an approach to control the randomness,\n",
    "\n",
    "**Hints:**\n",
    "\n",
    "* We learnt how to sample using a `numpy` random number generator in the [sampling notebook](./01_sampling.ipynb). Excluding a random seed, the basic method for drawing a single sample follows this pattern:\n",
    "    ```python\n",
    "    rng = np.random.default_rng()\n",
    "    sample = rng.exponential(scale=12.0)\n",
    "    ```"
   ]
  },
  {
   "cell_type": "markdown",
   "id": "73cc4a74-9220-437b-a4ff-0c578ad6b701",
   "metadata": {},
   "source": [
    "### 3.1 Example answer 1"
   ]
  },
  {
   "cell_type": "code",
   "execution_count": 4,
   "id": "14236ac8-d81c-410e-a3b8-ac166118653b",
   "metadata": {},
   "outputs": [],
   "source": [
    "# example answer\n",
    "def arrivals_generator(env, random_seed=None):\n",
    "    '''\n",
    "    Time between caller arrivals follows an Expoential distribution with mean\n",
    "    inter-arrival time of 60.0/100.0 minutes\n",
    "    \n",
    "    Parameters:\n",
    "    ------\n",
    "    env: simpy.Environment\n",
    "    \n",
    "    random_state: int, optional (default=None)\n",
    "        if set then used as random seed to control sampling.\n",
    "    '''\n",
    "    rs_arrivals = np.random.default_rng(random_seed)\n",
    "    \n",
    "    while True:\n",
    "        inter_arrival_time = rs_arrivals.exponential(60.0/100.0)\n",
    "        yield env.timeout(inter_arrival_time)\n",
    "        print(f'Call arrives at: {env.now}')"
   ]
  },
  {
   "cell_type": "code",
   "execution_count": 5,
   "id": "1dde3eaf-f020-4850-9207-7b6bb8479098",
   "metadata": {},
   "outputs": [
    {
     "name": "stdout",
     "output_type": "stream",
     "text": [
      "Call arrives at: 1.2047204928588542\n",
      "Call arrives at: 1.665546474948937\n",
      "Call arrives at: 2.373859767681621\n",
      "Call arrives at: 2.8557180455305122\n",
      "Call arrives at: 3.292413414302393\n",
      "Call arrives at: 3.948584404430685\n",
      "Call arrives at: 4.635827332239991\n",
      "Call arrives at: 4.713197604859726\n",
      "Call arrives at: 6.2100100085567185\n",
      "Call arrives at: 6.774734821423559\n",
      "Call arrives at: 6.793089740386549\n",
      "Call arrives at: 7.723100804981457\n",
      "Call arrives at: 9.071806936287263\n",
      "Call arrives at: 9.883018879630491\n",
      "Call arrives at: 10.292246335013177\n",
      "Call arrives at: 11.206429085014648\n",
      "Call arrives at: 12.861416213324771\n",
      "Call arrives at: 13.710937641648242\n",
      "Call arrives at: 14.510705172538367\n",
      "Call arrives at: 14.625813856487689\n",
      "Call arrives at: 15.61718210481707\n",
      "Call arrives at: 16.296921355929992\n",
      "Call arrives at: 17.41307760431281\n",
      "Call arrives at: 19.228422092191522\n",
      "Call arrives at: 19.440896829258076\n",
      "Call arrives at: 19.64343927716942\n",
      "Call arrives at: 20.588121606767952\n",
      "Call arrives at: 20.985618515608884\n",
      "Call arrives at: 21.34731310770153\n",
      "Call arrives at: 21.823781238529477\n",
      "Call arrives at: 21.919997467156954\n",
      "Call arrives at: 21.923132569559417\n",
      "Call arrives at: 22.40881937290717\n",
      "Call arrives at: 22.55518745372537\n",
      "Call arrives at: 22.973348752907274\n",
      "Call arrives at: 24.41742617539971\n",
      "Call arrives at: 24.608483963960868\n",
      "Call arrives at: 24.695937459592837\n",
      "end of run. simulation clock time = 25\n"
     ]
    }
   ],
   "source": [
    "# model parameters\n",
    "RUN_LENGTH = 25\n",
    "\n",
    "# create the simpy environment object\n",
    "env = simpy.Environment()\n",
    "\n",
    "# tell simpy that the `arrivals_generator` is a process\n",
    "env.process(arrivals_generator(env))\n",
    "\n",
    "# run the simulation model\n",
    "env.run(until=RUN_LENGTH)\n",
    "print(f'end of run. simulation clock time = {env.now}')"
   ]
  },
  {
   "cell_type": "markdown",
   "id": "f52643e4-a098-453e-956b-a8a9178494f7",
   "metadata": {},
   "source": [
    "### 3.2 Example answer 2\n",
    "\n",
    "In this solution, we first define a class called `Exponential` and pass that as an argument to the generator."
   ]
  },
  {
   "cell_type": "code",
   "execution_count": 6,
   "id": "d9535b30-45da-419a-9034-8da7920766a3",
   "metadata": {},
   "outputs": [],
   "source": [
    "class Exponential:\n",
    "    '''\n",
    "    Convenience class for the exponential distribution.\n",
    "    packages up distribution parameters, seed and random generator.\n",
    "    '''\n",
    "    def __init__(self, mean, random_seed=None):\n",
    "        '''\n",
    "        Constructor\n",
    "\n",
    "        Params:\n",
    "        ------\n",
    "        mean: float\n",
    "            The mean of the exponential distribution\n",
    "\n",
    "        random_seed: int, optional (default=None)\n",
    "            A random seed to reproduce samples.  If set to none then a unique\n",
    "            sample is created.\n",
    "        '''\n",
    "        self.rand = np.random.default_rng(seed=random_seed)\n",
    "        self.mean = mean\n",
    "\n",
    "    def sample(self, size=None):\n",
    "        '''\n",
    "        Generate a sample from the exponential distribution\n",
    "\n",
    "        Params:\n",
    "        -------\n",
    "        size: int, optional (default=None)\n",
    "            the number of samples to return.  If size=None then a single\n",
    "            sample is returned.\n",
    "        '''\n",
    "        return self.rand.exponential(self.mean, size=size)"
   ]
  },
  {
   "cell_type": "code",
   "execution_count": 7,
   "id": "b983b6d8-d7c8-4507-9996-5bcbc35bc54b",
   "metadata": {},
   "outputs": [],
   "source": [
    "# example answer\n",
    "def arrivals_generator(env, iat_dist):\n",
    "    '''\n",
    "    Call arrival process. Calls follow a user specified distribution\n",
    "    \n",
    "    Parameters:\n",
    "    ------\n",
    "    env: simpy.Environment\n",
    "    \n",
    "    iat_dist: object\n",
    "        A python class that implements a .sample() method\n",
    "        and generates the IATs\n",
    "    '''        \n",
    "    while True:\n",
    "        inter_arrival_time = iat_dist.sample()\n",
    "        yield env.timeout(inter_arrival_time)\n",
    "        print(f'Prescription arrives at: {env.now}')"
   ]
  },
  {
   "cell_type": "code",
   "execution_count": 8,
   "id": "755cb0b6-c2ba-4166-8ea4-a3c9b2f7b43f",
   "metadata": {},
   "outputs": [
    {
     "name": "stdout",
     "output_type": "stream",
     "text": [
      "Prescription arrives at: 1.4425251623795967\n",
      "Prescription arrives at: 2.8442389558742684\n",
      "Prescription arrives at: 4.2750955557988215\n",
      "Prescription arrives at: 4.442972129709771\n",
      "Prescription arrives at: 4.4948345695287975\n",
      "Prescription arrives at: 5.366430878952488\n",
      "Prescription arrives at: 6.212407295507032\n",
      "Prescription arrives at: 8.08698486943673\n",
      "Prescription arrives at: 8.134561387746835\n",
      "Prescription arrives at: 8.762497895672734\n",
      "Prescription arrives at: 8.804759679751418\n",
      "Prescription arrives at: 9.458173856565795\n",
      "Prescription arrives at: 10.49697026829608\n",
      "Prescription arrives at: 10.729107163050026\n",
      "Prescription arrives at: 11.46805856064697\n",
      "Prescription arrives at: 11.560322512942706\n",
      "Prescription arrives at: 11.615268873376822\n",
      "Prescription arrives at: 11.804376394656257\n",
      "Prescription arrives at: 12.345095959878352\n",
      "Prescription arrives at: 12.592887157721446\n",
      "Prescription arrives at: 13.34131872760962\n",
      "Prescription arrives at: 13.475464550937012\n",
      "Prescription arrives at: 14.57824670942369\n",
      "Prescription arrives at: 15.314498227352246\n",
      "Prescription arrives at: 15.707975919730046\n",
      "Prescription arrives at: 15.958227943517135\n",
      "Prescription arrives at: 16.230219757096094\n",
      "Prescription arrives at: 16.27646604532949\n",
      "Prescription arrives at: 16.38424539795422\n",
      "Prescription arrives at: 16.795437668916772\n",
      "Prescription arrives at: 17.028645810612666\n",
      "Prescription arrives at: 17.78716992515173\n",
      "Prescription arrives at: 18.212264301601405\n",
      "Prescription arrives at: 18.355022274180214\n",
      "Prescription arrives at: 18.631675275934697\n",
      "Prescription arrives at: 19.016609318249007\n",
      "Prescription arrives at: 19.222909335111684\n",
      "Prescription arrives at: 19.41605606765547\n",
      "Prescription arrives at: 19.943404876970998\n",
      "Prescription arrives at: 20.12157320232828\n",
      "Prescription arrives at: 20.92179465734741\n",
      "Prescription arrives at: 21.756313049094953\n",
      "Prescription arrives at: 22.406762805874067\n",
      "Prescription arrives at: 22.45057981466233\n",
      "Prescription arrives at: 23.131020315695984\n",
      "Prescription arrives at: 23.94362310841509\n",
      "Prescription arrives at: 24.616846899289545\n",
      "Prescription arrives at: 24.784876371431398\n",
      "Prescription arrives at: 24.977438086053017\n",
      "end of run. simulation clock time = 25\n"
     ]
    }
   ],
   "source": [
    "# model parameters\n",
    "RUN_LENGTH = 25\n",
    "\n",
    "# create the simpy environment object\n",
    "env = simpy.Environment()\n",
    "\n",
    "iat = Exponential(mean=60.0 / 100.0, random_seed=42)\n",
    "\n",
    "# tell simpy that the `arrivals_generator` is a process\n",
    "env.process(arrivals_generator(env, iat))\n",
    "\n",
    "# run the simulation model\n",
    "env.run(until=RUN_LENGTH)\n",
    "print(f'end of run. simulation clock time = {env.now}')"
   ]
  },
  {
   "cell_type": "markdown",
   "id": "4a605ad5-c95d-48e8-aacc-a7b33ab9b010",
   "metadata": {},
   "source": [
    "### 3.3 Why would we use solution 2?"
   ]
  },
  {
   "cell_type": "markdown",
   "id": "1e7ae3d1-742b-424c-9c3e-1a697fbe52a0",
   "metadata": {},
   "source": [
    "Solution 2 is a useful approach as it is now **easy to define new experiments**.\n",
    "\n",
    "We could experiment with the mean of the exponential or use an entirely different distribution (as long as it implements `.sample()`) without changing our generator function. \n",
    "\n",
    "For example..."
   ]
  },
  {
   "cell_type": "code",
   "execution_count": 9,
   "id": "cacab88e-0f8c-461c-9ff0-3074c20dd1c8",
   "metadata": {},
   "outputs": [
    {
     "name": "stdout",
     "output_type": "stream",
     "text": [
      "Prescription arrives at: 1.8031564529744961\n",
      "Prescription arrives at: 3.5552986948428362\n",
      "Prescription arrives at: 5.3438694447485275\n",
      "Prescription arrives at: 5.553715162137215\n",
      "Prescription arrives at: 5.618543211910998\n",
      "Prescription arrives at: 6.708038598690611\n",
      "Prescription arrives at: 7.7655091193837915\n",
      "Prescription arrives at: 10.108731086795915\n",
      "Prescription arrives at: 10.168201734683548\n",
      "Prescription arrives at: 10.95312236959092\n",
      "Prescription arrives at: 11.005949599689277\n",
      "Prescription arrives at: 11.822717320707246\n",
      "Prescription arrives at: 13.121212835370102\n",
      "Prescription arrives at: 13.411383953812535\n",
      "Prescription arrives at: 14.335073200808715\n",
      "Prescription arrives at: 14.450403141178384\n",
      "Prescription arrives at: 14.519086091721029\n",
      "Prescription arrives at: 14.755470493320324\n",
      "Prescription arrives at: 15.431369949847943\n",
      "Prescription arrives at: 15.74110894715181\n",
      "Prescription arrives at: 16.67664840951203\n",
      "Prescription arrives at: 16.84433068867127\n",
      "Prescription arrives at: 18.22280838677962\n",
      "Prescription arrives at: 19.143122784190314\n",
      "Prescription arrives at: 19.634969899662565\n",
      "Prescription arrives at: 19.947784929396427\n",
      "Prescription arrives at: 20.287774696370125\n",
      "Prescription arrives at: 20.345582556661867\n",
      "Prescription arrives at: 20.480306747442782\n",
      "Prescription arrives at: 20.99429708614597\n",
      "Prescription arrives at: 21.285807263265834\n",
      "Prescription arrives at: 22.233962406439662\n",
      "Prescription arrives at: 22.765330377001757\n",
      "Prescription arrives at: 22.943777842725268\n",
      "Prescription arrives at: 23.28959409491837\n",
      "Prescription arrives at: 23.770761647811256\n",
      "Prescription arrives at: 24.0286366688896\n",
      "Prescription arrives at: 24.270070084569333\n",
      "Prescription arrives at: 24.92925609621374\n",
      "end of run. simulation clock time = 25\n"
     ]
    }
   ],
   "source": [
    "# model parameters\n",
    "RUN_LENGTH = 25\n",
    "\n",
    "# create the simpy environment object\n",
    "env = simpy.Environment()\n",
    "\n",
    "# ****** MODIFICATION: reduce IAT. ******\n",
    "# Note: with this method we could use a different Exponetial parameters or\n",
    "# even a different distribution such as Erlang\n",
    "iat = Exponential(mean=60.0 / 80.0, random_seed=42)\n",
    "\n",
    "# tell simpy that the `arrivals_generator` is a process\n",
    "env.process(arrivals_generator(env, iat))\n",
    "\n",
    "# run the simulation model\n",
    "env.run(until=RUN_LENGTH)\n",
    "print(f'end of run. simulation clock time = {env.now}')"
   ]
  }
 ],
 "metadata": {
  "kernelspec": {
   "display_name": "Python 3 (ipykernel)",
   "language": "python",
   "name": "python3"
  },
  "language_info": {
   "codemirror_mode": {
    "name": "ipython",
    "version": 3
   },
   "file_extension": ".py",
   "mimetype": "text/x-python",
   "name": "python",
   "nbconvert_exporter": "python",
   "pygments_lexer": "ipython3",
   "version": "3.11.10"
  }
 },
 "nbformat": 4,
 "nbformat_minor": 5
}
