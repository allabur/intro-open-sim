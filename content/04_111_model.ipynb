{
 "cells": [
  {
   "cell_type": "markdown",
   "id": "415a5a10-1110-4ee5-aa48-b01680a423b9",
   "metadata": {},
   "source": [
    "# A full SimPy model\n",
    "\n",
    "In this notebook, we will now build a full `simpy` process model. Our example is a queuing model of a 111 call centre.  We will include random arrivals and resources. We will keep this simple, and gradually add in detail and flexibility to our design."
   ]
  },
  {
   "cell_type": "markdown",
   "id": "21b7aade-0ead-4203-adc9-8f22b90f4b93",
   "metadata": {},
   "source": [
    "## 1. Imports"
   ]
  },
  {
   "cell_type": "code",
   "execution_count": null,
   "id": "56227fa4-b69e-4760-bb5b-2982a804bca6",
   "metadata": {},
   "outputs": [],
   "source": [
    "import simpy\n",
    "import numpy as np\n",
    "import itertools"
   ]
  },
  {
   "cell_type": "markdown",
   "id": "52ca88d4-14e2-4650-b7ac-20b81e1e7f40",
   "metadata": {},
   "source": [
    "## 2. Problem background\n",
    "\n",
    "Call operators in an 111 (urgent care) service receive calls at a rate of 100 per hour. Call length can be represented by a triangular distribution.  Calls last between 5 minutes and 15 minutes. Most calls last 7 minutes. There are 13 call operators.\n",
    "\n",
    "![Call Centre Diagram](./img/callcentre.png)"
   ]
  },
  {
   "cell_type": "markdown",
   "id": "78d33d8d-1640-493d-b959-36c1f2af0ca9",
   "metadata": {},
   "source": [
    "## 3. SimPy resources\n",
    "\n",
    "To model the call centre, we need to introduce a **resource**.\n",
    "\n",
    "These resources represent the call operators. If a resource is not available then a process will **pause** (i.e. callers will wait for an operator to become available). \n",
    "\n",
    "We create a resource as follows:\n",
    "\n",
    "```python\n",
    "operators = simpy.Resource(env, capacity=20)\n",
    "```\n",
    "\n",
    "When we want to request a resource in our process, we create a `with` block as follows:\n",
    "\n",
    "```python\n",
    "with operators.request() as req:\n",
    "    yield req\n",
    "```\n",
    "\n",
    "This tells SimPy that **your process needs an operator resource to progress**.  The code will pause until a resource is yielded. This gives us our **queuing effect**.  If a resource is not available immediately then the process will wait until one becomes available."
   ]
  },
  {
   "cell_type": "markdown",
   "id": "43c7fc53-7a02-44b7-9a41-0e454bcdc328",
   "metadata": {},
   "source": [
    "## 4. The service function\n",
    "\n",
    "We will first create a python function called `service()` to simulate the service process for a call operator. We need to include the following logic:\n",
    "\n",
    "1. **Request and wait** (if necessary) for a call operator.\n",
    "2. Undergo **phone triage** (a delay). This is a sample from the Triangular distribution.\n",
    "3. **Exit the system**.\n",
    "\n",
    "Each caller that arrives in the simulation will this function as a SimPy **process**. As inputs to the function, we will pass:\n",
    "\n",
    "* A unique patient identifier (`identifier`)\n",
    "* A pool of operator resources (`operators`)\n",
    "* The environment (`env`)\n",
    "* The service process random number generator object (`service_rng`)"
   ]
  },
  {
   "cell_type": "code",
   "execution_count": null,
   "id": "25279edf-dc3b-4f72-95af-e9ea7cedac57",
   "metadata": {},
   "outputs": [],
   "source": [
    "def service(identifier, operators, env, service_rng):\n",
    "    '''\n",
    "    Simulates the service process for a call operator\n",
    "\n",
    "    1. request and wait for a call operator\n",
    "    2. phone triage (triangular)\n",
    "    3. exit system\n",
    "    \n",
    "    Params:\n",
    "    ------\n",
    "    \n",
    "    identifier: int \n",
    "        A unique identifer for this caller\n",
    "        \n",
    "    operators: simpy.Resource\n",
    "        The pool of call operators that answer calls\n",
    "        These are shared across resources.\n",
    "        \n",
    "    env: simpy.Environment\n",
    "        The current environent the simulation is running in\n",
    "        We use this to pause and restart the process after a delay.\n",
    "\n",
    "    service_rng: numpy.random.Generator\n",
    "        The random number generator used to sample service times\n",
    "    \n",
    "    '''\n",
    "    # record the time that call entered the queue\n",
    "    start_wait = env.now\n",
    "\n",
    "    # request an operator\n",
    "    with operators.request() as req:\n",
    "        yield req\n",
    "\n",
    "        # record the waiting time for call to be answered\n",
    "        waiting_time = env.now - start_wait\n",
    "        print(f'operator answered call {identifier} at ' \\\n",
    "              + f'{env.now:.3f}')\n",
    "\n",
    "        # sample call duration.\n",
    "        call_duration = service_rng.triangular(left=5.0, mode=7.0,\n",
    "                                               right=10.0)\n",
    "        \n",
    "        # schedule process to begin again after call_duration\n",
    "        yield env.timeout(call_duration)\n",
    "\n",
    "        # print out information for patient.\n",
    "        print(f'call {identifier} ended {env.now:.3f}; ' \\\n",
    "              + f'waiting time was {waiting_time:.3f}')"
   ]
  },
  {
   "cell_type": "markdown",
   "id": "ca62c3c9-de40-40ca-8971-3b5846e4d57c",
   "metadata": {},
   "source": [
    "## 5. The generator function\n",
    "\n",
    "The generator function is very similar to the [our initial\n",
    "code](./03b_exercise1_solutions.ipynb).  \n",
    "\n",
    "> ✂️ **Notice the pattern**. For most models you can just cut, paste and modify code you have used before."
   ]
  },
  {
   "cell_type": "code",
   "execution_count": null,
   "id": "1e28c3bc-4d8f-48a4-ad71-db303e29ea73",
   "metadata": {},
   "outputs": [],
   "source": [
    "def arrivals_generator(env, operators):\n",
    "    '''\n",
    "    Simulates the call arrival process and spawns \n",
    "    Inter-arrival time (IAT) is exponentially distributed\n",
    "\n",
    "    Parameters:\n",
    "    ------\n",
    "    env: simpy.Environment\n",
    "        The simpy environment for the simulation\n",
    "\n",
    "    operators: simpy.Resource\n",
    "        the pool of call operators.\n",
    "    '''\n",
    "    # create the arrival process rng \n",
    "    arrival_rng = np.random.default_rng()\n",
    "    \n",
    "    # create the service rng that we pass to each service process created\n",
    "    service_rng = np.random.default_rng()\n",
    "    \n",
    "    # use itertools as it provides an infinite loop \n",
    "    # with a counter variable that we can use for unique Ids\n",
    "    for caller_count in itertools.count(start=1):\n",
    "\n",
    "        # 100 calls per hour (sim time units = minutes). \n",
    "        inter_arrival_time = arrival_rng.exponential(60/100)\n",
    "        yield env.timeout(inter_arrival_time)\n",
    "\n",
    "        print(f'call arrives at: {env.now:.3f}')\n",
    "\n",
    "        # create a new simpy process for serving this caller.\n",
    "        # we pass in the caller id, the operator resources, env, and the rng\n",
    "        env.process(service(caller_count, operators, env, service_rng))"
   ]
  },
  {
   "cell_type": "markdown",
   "id": "12fe16cb-23f3-4223-99af-5c31b546c7af",
   "metadata": {},
   "source": [
    "## 6. Run the model"
   ]
  },
  {
   "cell_type": "code",
   "execution_count": null,
   "id": "7f7ca57f-c672-46ca-9b77-85b0b08b04e7",
   "metadata": {},
   "outputs": [],
   "source": [
    "# model parameters\n",
    "RUN_LENGTH = 100\n",
    "N_OPERATORS = 13\n",
    "\n",
    "# create simpy environment and operator resources\n",
    "env = simpy.Environment()\n",
    "operators = simpy.Resource(env, capacity=N_OPERATORS)\n",
    "\n",
    "env.process(arrivals_generator(env, operators))\n",
    "env.run(until=RUN_LENGTH)\n",
    "print(f'end of run. simulation clock time = {env.now}')"
   ]
  }
 ],
 "metadata": {
  "kernelspec": {
   "display_name": "Python 3 (ipykernel)",
   "language": "python",
   "name": "python3"
  },
  "language_info": {
   "codemirror_mode": {
    "name": "ipython",
    "version": 3
   },
   "file_extension": ".py",
   "mimetype": "text/x-python",
   "name": "python",
   "nbconvert_exporter": "python",
   "pygments_lexer": "ipython3",
   "version": "3.11.11"
  }
 },
 "nbformat": 4,
 "nbformat_minor": 5
}
