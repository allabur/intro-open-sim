{
 "cells": [
  {
   "cell_type": "markdown",
   "id": "0be7dabf-cb34-4faf-abb1-e2c8e735beda",
   "metadata": {},
   "source": [
    "# Implementing a warm-up period\n",
    "\n",
    "We will implement warm-up as a single event that resets all of our results collection variables.  \n",
    "\n",
    "This is a simpler approach than including lots of if statements in `simpy` processes."
   ]
  },
  {
   "cell_type": "markdown",
   "id": "0d9383eb-420c-49f8-b178-f2fe9e6b2a90",
   "metadata": {},
   "source": [
    "## 1. Imports "
   ]
  },
  {
   "cell_type": "code",
   "execution_count": 1,
   "id": "c1cee9f9-8696-4b13-94ff-bee2a2a2e5f8",
   "metadata": {},
   "outputs": [],
   "source": [
    "import numpy as np\n",
    "import itertools\n",
    "import simpy"
   ]
  },
  {
   "cell_type": "code",
   "execution_count": 25,
   "id": "ea3d507f-9e6d-4ff0-8b90-f9c63c8a8bdf",
   "metadata": {},
   "outputs": [],
   "source": [
    "# to reduce code these classes can be found in distribution.py\n",
    "from distributions import (\n",
    "    Exponential, \n",
    "    Lognormal\n",
    ")"
   ]
  },
  {
   "cell_type": "markdown",
   "id": "c422046d-488a-4743-8ad4-97e9f3dab420",
   "metadata": {},
   "source": [
    "## 2. Constants"
   ]
  },
  {
   "cell_type": "code",
   "execution_count": 3,
   "id": "1ecf0429-f03f-4ad2-abb4-46692a74e559",
   "metadata": {},
   "outputs": [],
   "source": [
    "# default mean inter-arrival times(exp)\n",
    "# time is in days\n",
    "IAT_STROKES = 1.0\n",
    "\n",
    "# resources\n",
    "N_ACUTE_BEDS = 9\n",
    "\n",
    "# Acute LoS (Lognormal)\n",
    "ACUTE_LOS_MEAN = 7.0\n",
    "ACUTE_LOC_STD = 1.0\n",
    "\n",
    "# sampling settings\n",
    "N_STREAMS = 2\n",
    "DEFAULT_RND_SET = 0\n",
    "\n",
    "# Boolean switch to simulation results as the model runs\n",
    "TRACE = False\n",
    "\n",
    "# run variables (units = days)\n",
    "WU_PERIOD = 0.0\n",
    "RC_PERIOD = 100"
   ]
  },
  {
   "cell_type": "markdown",
   "id": "5f2a4ad9-6d5e-480d-850f-84d4882a738b",
   "metadata": {},
   "source": [
    "## 2. Helper classes and functions"
   ]
  },
  {
   "cell_type": "code",
   "execution_count": 4,
   "id": "52c9271f-1d05-454d-a199-8768bdf5b6e8",
   "metadata": {},
   "outputs": [],
   "source": [
    "def trace(msg):\n",
    "    \"\"\"\n",
    "    Turing printing of events on and off.\n",
    "\n",
    "    Params:\n",
    "    -------\n",
    "    msg: str\n",
    "        string to print to screen.\n",
    "    \"\"\"\n",
    "    if TRACE:\n",
    "        print(msg)"
   ]
  },
  {
   "cell_type": "markdown",
   "id": "5a8c050c-4bb6-408f-a805-3a4aaab56916",
   "metadata": {},
   "source": [
    "## 3. Experiment class"
   ]
  },
  {
   "cell_type": "code",
   "execution_count": 5,
   "id": "576ae9b4-b21b-4ed0-9b13-e5898d423173",
   "metadata": {},
   "outputs": [],
   "source": [
    "class Experiment:\n",
    "    \"\"\"\n",
    "    Encapsulates the concept of an experiment 🧪 for the stroke pathway\n",
    "    bed blocking simulator. Manages parameters, PRNG streams and results.\n",
    "    \"\"\"\n",
    "    def __init__(\n",
    "        self,\n",
    "        random_number_set=DEFAULT_RND_SET,\n",
    "        n_streams=N_STREAMS,\n",
    "        iat_strokes=IAT_STROKES,\n",
    "        acute_los_mean=ACUTE_LOS_MEAN,\n",
    "        acute_los_std=ACUTE_LOC_STD,\n",
    "        n_acute_beds=N_ACUTE_BEDS, \n",
    "    ):\n",
    "        \"\"\"\n",
    "        The init method sets up our defaults.\n",
    "        \"\"\"\n",
    "        # sampling\n",
    "        self.random_number_set = random_number_set\n",
    "        self.n_streams = n_streams\n",
    "\n",
    "        # store parameters for the run of the model\n",
    "        self.iat_strokes = iat_strokes\n",
    "        self.acute_los_mean = acute_los_mean\n",
    "        self.acute_los_std = acute_los_std\n",
    "\n",
    "        #  place holder for resources\n",
    "        self.acute_ward = None\n",
    "        self.n_acute_beds = n_acute_beds\n",
    "        \n",
    "        # initialise results to zero\n",
    "        self.init_results_variables()\n",
    "\n",
    "        # initialise sampling objects\n",
    "        self.init_sampling()\n",
    "\n",
    "    def set_random_no_set(self, random_number_set):\n",
    "        \"\"\"\n",
    "        Controls the random sampling\n",
    "        Parameters:\n",
    "        ----------\n",
    "        random_number_set: int\n",
    "            Used to control the set of pseudo random numbers used by\n",
    "            the distributions in the simulation.\n",
    "        \"\"\"\n",
    "        self.random_number_set = random_number_set\n",
    "        self.init_sampling()\n",
    "\n",
    "    def init_sampling(self):\n",
    "        \"\"\"\n",
    "        Create the distributions used by the model and initialise\n",
    "        the random seeds of each.\n",
    "        \"\"\"\n",
    "        # produce n non-overlapping streams\n",
    "        seed_sequence = np.random.SeedSequence(self.random_number_set)\n",
    "        self.seeds = seed_sequence.spawn(self.n_streams)\n",
    "\n",
    "        # create distributions\n",
    "\n",
    "        # inter-arrival time distributions\n",
    "        self.arrival_strokes = Exponential(\n",
    "            self.iat_strokes, random_seed=self.seeds[0]\n",
    "        )\n",
    "\n",
    "        self.acute_los = Lognormal(\n",
    "            self.acute_los_mean, self.acute_los_std, random_seed=self.seeds[1]\n",
    "        )\n",
    "\n",
    "    def init_results_variables(self):\n",
    "        \"\"\"\n",
    "        Initialise all of the experiment variables used in results\n",
    "        collection.  This method is called at the start of each run\n",
    "        of the model\n",
    "        \"\"\"\n",
    "        # variable used to store results of experiment\n",
    "        self.results = {}\n",
    "        self.results[\"n_arrivals\"] = 0\n",
    "        self.results[\"waiting_acute\"] = []"
   ]
  },
  {
   "cell_type": "markdown",
   "id": "7ff9beae-89cc-419c-b584-c05b81086865",
   "metadata": {},
   "source": [
    "## 🥵 Warm-up period"
   ]
  },
  {
   "cell_type": "code",
   "execution_count": 6,
   "id": "dff74a08-37fd-4b18-8bcd-97994f38369a",
   "metadata": {},
   "outputs": [],
   "source": [
    "def warmup_complete(warm_up_period, env, args):\n",
    "    \"\"\"\n",
    "    End of warm-up period event. Used to reset results collection variables.\n",
    "\n",
    "    Parameters:\n",
    "    ----------\n",
    "    warm_up_period: float\n",
    "        Duration of warm-up period in simultion time units\n",
    "\n",
    "    env: simpy.Environment\n",
    "        The simpy environment\n",
    "\n",
    "    args: Experiment\n",
    "        The simulation experiment that contains the results being collected.\n",
    "    \"\"\"\n",
    "    yield env.timeout(warm_up_period)\n",
    "    trace(f\"{env.now:.2f}: 🥵 Warm up complete.\")\n",
    "    \n",
    "    args.init_results_variables()"
   ]
  },
  {
   "cell_type": "markdown",
   "id": "94f0f9c5-22cb-493a-9f1f-4e2a8325beaa",
   "metadata": {},
   "source": [
    "## 4. Pathway process logic\n",
    "\n",
    "The key things to recognise are \n",
    "\n",
    "* We include a optional parameter called `collection_results` that defaults to `True`. We may set this `False` in our functions that setup initial conditions"
   ]
  },
  {
   "cell_type": "code",
   "execution_count": 7,
   "id": "911528e1-e4eb-4307-bb26-632faf7769d1",
   "metadata": {},
   "outputs": [],
   "source": [
    "def acute_stroke_pathway(patient_id, env, args):\n",
    "    \"\"\"Process a patient through the acute ward\n",
    "    Simpy generator function.\n",
    "    \n",
    "    Parameters:\n",
    "    -----------\n",
    "    patient_id: int\n",
    "        A unique id representing the patient in the process\n",
    "\n",
    "    env: simpy.Environment\n",
    "        The simulation environment\n",
    "\n",
    "    args: Experiment\n",
    "        Container class for the simulation parameters/results.\n",
    "    \"\"\"\n",
    "    arrival_time = env.now\n",
    "\n",
    "    with args.acute_ward.request() as acute_bed_request:\n",
    "        yield acute_bed_request\n",
    "        \n",
    "        acute_admit_time = env.now\n",
    "        wait_for_acute = acute_admit_time - arrival_time\n",
    "               \n",
    "        args.results['waiting_acute'].append(wait_for_acute)\n",
    "        \n",
    "        trace(f\"{env.now:.2f}: Patient {patient_id} admitted to acute ward.\" \\\n",
    "              + f\"(waited {wait_for_acute:.2f} days)\")\n",
    "        \n",
    "        # Simulate acute care treatment\n",
    "        acute_care_duration = args.acute_los.sample()\n",
    "        yield env.timeout(acute_care_duration)\n",
    "        \n",
    "        trace(f\"{env.now:.2f}: Patient {patient_id} discharged.\")"
   ]
  },
  {
   "cell_type": "markdown",
   "id": "de8990c2-a330-4c02-ac77-26c30d3e0a41",
   "metadata": {},
   "source": [
    "## 4. Arrivals generator\n",
    "\n",
    "This is a standard arrivals generator. We create stroke arrivals according to their distribution."
   ]
  },
  {
   "cell_type": "code",
   "execution_count": 33,
   "id": "b3e686ce-5371-4471-a052-b9d43309bc85",
   "metadata": {},
   "outputs": [],
   "source": [
    "def stroke_arrivals_generator(env, args):\n",
    "    \"\"\"\n",
    "    Arrival process for strokes.\n",
    "\n",
    "    Parameters:\n",
    "    ------\n",
    "    env: simpy.Environment\n",
    "        The simpy environment for the simulation\n",
    "\n",
    "    args: Experiment\n",
    "        The settings and input parameters for the simulation.\n",
    "    \"\"\"\n",
    "    # use itertools as it provides an infinite loop\n",
    "    # with a counter variable that we can use for unique Ids\n",
    "    for patient_id in itertools.count(start=1):\n",
    "\n",
    "        # the sample distribution is defined by the experiment.\n",
    "        inter_arrival_time = args.arrival_strokes.sample()\n",
    "        yield env.timeout(inter_arrival_time)\n",
    "\n",
    "        args.results[\"n_arrivals\"] += 1\n",
    "        \n",
    "        trace(f\"{env.now:.2f}: Stroke arrival.\")\n",
    "\n",
    "        # patient enters pathway\n",
    "        env.process(acute_stroke_pathway(patient_id, env, args))"
   ]
  },
  {
   "cell_type": "markdown",
   "id": "6058571e-9fdb-4961-be27-8a3b8c2fe26e",
   "metadata": {},
   "source": [
    "## 5. Single run function"
   ]
  },
  {
   "cell_type": "code",
   "execution_count": 34,
   "id": "0d0ea6cf-7d95-4d2c-9690-fcdbdae35d84",
   "metadata": {},
   "outputs": [],
   "source": [
    "def single_run(\n",
    "    experiment, \n",
    "    rep=0,\n",
    "    wu_period=WU_PERIOD,\n",
    "    rc_period=RC_PERIOD\n",
    "):\n",
    "    \"\"\"\n",
    "    Perform a single run of the model and return the results\n",
    "\n",
    "    Parameters:\n",
    "    -----------\n",
    "\n",
    "    experiment: Experiment\n",
    "        The experiment/paramaters to use with model\n",
    "\n",
    "    rep: int\n",
    "        The replication number.\n",
    "\n",
    "    wu_period: float, optional (default=WU_PERIOD)\n",
    "        Warm-up period\n",
    "\n",
    "    rc_period: float, optional (default=RC_PERIOD)\n",
    "        The run length of the model\n",
    "    \"\"\"\n",
    "\n",
    "    # reset all results variables to zero and empty\n",
    "    experiment.init_results_variables()\n",
    "\n",
    "    # set random number set to the replication no.\n",
    "    # this controls sampling for the run.\n",
    "    experiment.set_random_no_set(rep)\n",
    "\n",
    "    # environment is (re)created inside single run\n",
    "    env = simpy.Environment()\n",
    "\n",
    "    # simpy resources\n",
    "    experiment.acute_ward = simpy.Resource(env, experiment.n_acute_beds)\n",
    "\n",
    "    # schedule a warm_up period\n",
    "    env.process(warmup_complete(wu_period, env, experiment))\n",
    "    \n",
    "    # we pass all arrival generators to simpy \n",
    "    env.process(stroke_arrivals_generator(env, experiment))\n",
    "\n",
    "    # run model\n",
    "    env.run(until=wu_period+rc_period)\n",
    "\n",
    "    # quick stats\n",
    "    results = {}\n",
    "    results['mean_acute_wait'] = np.array(\n",
    "        experiment.results[\"waiting_acute\"]\n",
    "    ).mean()\n",
    "\n",
    "    # return single run results\n",
    "    return results"
   ]
  },
  {
   "cell_type": "markdown",
   "id": "c13f5e57-723c-409b-a1ce-cdb831b4e166",
   "metadata": {},
   "source": [
    "## Quick check 1: No warm-up"
   ]
  },
  {
   "cell_type": "code",
   "execution_count": 35,
   "id": "caf52390-5455-4fa1-bb22-60b5b91ad8d0",
   "metadata": {},
   "outputs": [
    {
     "name": "stdout",
     "output_type": "stream",
     "text": [
      "0.00: 🥵 Warm up complete.\n",
      "3.29: Stroke arrival.\n",
      "3.29: Patient 1 admitted to acute ward.(waited 0.00 days)\n",
      "4.06: Stroke arrival.\n",
      "4.06: Patient 2 admitted to acute ward.(waited 0.00 days)\n"
     ]
    },
    {
     "data": {
      "text/plain": [
       "{'mean_acute_wait': 0.0}"
      ]
     },
     "execution_count": 35,
     "metadata": {},
     "output_type": "execute_result"
    }
   ],
   "source": [
    "TRACE = True\n",
    "experiment = Experiment()\n",
    "results = single_run(experiment, rep=0, wu_period=0.0, rc_period=5.0)\n",
    "results"
   ]
  },
  {
   "cell_type": "code",
   "execution_count": 36,
   "id": "ddedb4f1-207d-4295-9ae4-c49b2c7cdcaf",
   "metadata": {},
   "outputs": [
    {
     "data": {
      "text/plain": [
       "{'n_arrivals': 2, 'waiting_acute': [0.0, 0.0]}"
      ]
     },
     "execution_count": 36,
     "metadata": {},
     "output_type": "execute_result"
    }
   ],
   "source": [
    "# check how many patient waiting times recorded.\n",
    "experiment.results"
   ]
  },
  {
   "cell_type": "markdown",
   "id": "660ea2e1-d9c2-4355-876c-43dfd9dab0fe",
   "metadata": {},
   "source": [
    "## Quick check 1: Include a warm-up"
   ]
  },
  {
   "cell_type": "code",
   "execution_count": 37,
   "id": "72b5284a-1fcb-4126-b663-c0ef0002e4bf",
   "metadata": {},
   "outputs": [
    {
     "name": "stdout",
     "output_type": "stream",
     "text": [
      "3.29: Stroke arrival.\n",
      "3.29: Patient 1 admitted to acute ward.(waited 0.00 days)\n",
      "4.06: Stroke arrival.\n",
      "4.06: Patient 2 admitted to acute ward.(waited 0.00 days)\n",
      "5.00: 🥵 Warm up complete.\n",
      "5.31: Stroke arrival.\n",
      "5.31: Patient 3 admitted to acute ward.(waited 0.00 days)\n",
      "5.53: Stroke arrival.\n",
      "5.53: Patient 4 admitted to acute ward.(waited 0.00 days)\n",
      "5.76: Stroke arrival.\n",
      "5.76: Patient 5 admitted to acute ward.(waited 0.00 days)\n"
     ]
    },
    {
     "data": {
      "text/plain": [
       "{'mean_acute_wait': 0.0}"
      ]
     },
     "execution_count": 37,
     "metadata": {},
     "output_type": "execute_result"
    }
   ],
   "source": [
    "TRACE = True\n",
    "experiment = Experiment()\n",
    "results = single_run(experiment, rep=0, wu_period=5.0, rc_period=1.0)\n",
    "results"
   ]
  },
  {
   "cell_type": "code",
   "execution_count": 38,
   "id": "7f5e282b-0f41-41df-bdca-f128e7d418c1",
   "metadata": {},
   "outputs": [
    {
     "data": {
      "text/plain": [
       "{'n_arrivals': 3, 'waiting_acute': [0.0, 0.0, 0.0]}"
      ]
     },
     "execution_count": 38,
     "metadata": {},
     "output_type": "execute_result"
    }
   ],
   "source": [
    "# check how many patient waiting times recorded.\n",
    "experiment.results"
   ]
  }
 ],
 "metadata": {
  "kernelspec": {
   "display_name": "Python 3 (ipykernel)",
   "language": "python",
   "name": "python3"
  },
  "language_info": {
   "codemirror_mode": {
    "name": "ipython",
    "version": 3
   },
   "file_extension": ".py",
   "mimetype": "text/x-python",
   "name": "python",
   "nbconvert_exporter": "python",
   "pygments_lexer": "ipython3",
   "version": "3.11.11"
  }
 },
 "nbformat": 4,
 "nbformat_minor": 5
}
